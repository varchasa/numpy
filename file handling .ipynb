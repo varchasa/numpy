{
 "cells": [
  {
   "cell_type": "markdown",
   "metadata": {},
   "source": [
    "# file handling"
   ]
  },
  {
   "cell_type": "code",
   "execution_count": 1,
   "metadata": {},
   "outputs": [],
   "source": [
    "import numpy as np"
   ]
  },
  {
   "cell_type": "code",
   "execution_count": 2,
   "metadata": {},
   "outputs": [],
   "source": [
    "str = 'https://s3.amazonaws.com/thinkific-import-development/153034/planets-200320-181217.txt'"
   ]
  },
  {
   "cell_type": "code",
   "execution_count": 3,
   "metadata": {},
   "outputs": [],
   "source": [
    "planets = np.genfromtxt(str, \n",
    "                        skip_header=1, \n",
    "                        usecols = [1, 2, 3, 4, 5, 6, 7, 8, 9])"
   ]
  },
  {
   "cell_type": "code",
   "execution_count": 4,
   "metadata": {},
   "outputs": [
    {
     "data": {
      "text/plain": [
       "array([[ 3.30000e-01,  4.87000e+00,  5.97000e+00,  7.30000e-02,\n",
       "         6.42000e-01,  1.89800e+03,  5.68000e+02,  8.68000e+01,\n",
       "         1.02000e+02],\n",
       "       [ 4.87900e+03,  1.21040e+04,  1.27560e+04,  3.47500e+03,\n",
       "         6.79200e+03,  1.42984e+05,  1.20536e+05,  5.11180e+04,\n",
       "         4.95280e+04],\n",
       "       [ 5.42700e+03,  5.24300e+03,  5.51400e+03,  3.34000e+03,\n",
       "         3.93300e+03,  1.32600e+03,  6.87000e+02,  1.27100e+03,\n",
       "         1.63800e+03],\n",
       "       [ 3.70000e+00,  8.90000e+00,  9.80000e+00,  1.60000e+00,\n",
       "         3.70000e+00,  2.31000e+01,  9.00000e+00,  8.70000e+00,\n",
       "         1.10000e+01],\n",
       "       [ 4.30000e+00,  1.04000e+01,  1.12000e+01,  2.40000e+00,\n",
       "         5.00000e+00,  5.95000e+01,  3.55000e+01,  2.13000e+01,\n",
       "         2.35000e+01],\n",
       "       [ 1.40760e+03, -5.83250e+03,  2.39000e+01,  6.55700e+02,\n",
       "         2.46000e+01,  9.90000e+00,  1.07000e+01, -1.72000e+01,\n",
       "         1.61000e+01],\n",
       "       [ 4.22260e+03,  2.80200e+03,  2.40000e+01,  7.08700e+02,\n",
       "         2.47000e+01,  9.90000e+00,  1.07000e+01,  1.72000e+01,\n",
       "         1.61000e+01],\n",
       "       [ 5.79000e+01,  1.08200e+02,  1.49600e+02,  3.84000e-01,\n",
       "         2.27900e+02,  7.78600e+02,  1.43350e+03,  2.87250e+03,\n",
       "         4.49510e+03],\n",
       "       [ 4.60000e+01,  1.07500e+02,  1.47100e+02,  3.63000e-01,\n",
       "         2.06600e+02,  7.40500e+02,  1.35260e+03,  2.74130e+03,\n",
       "         4.44450e+03],\n",
       "       [ 6.98000e+01,  1.08900e+02,  1.52100e+02,  4.06000e-01,\n",
       "         2.49200e+02,  8.16600e+02,  1.51450e+03,  3.00360e+03,\n",
       "         4.54570e+03],\n",
       "       [ 8.80000e+01,  2.24700e+02,  3.65200e+02,  2.73000e+01,\n",
       "         6.87000e+02,  4.33100e+03,  1.07470e+04,  3.05890e+04,\n",
       "         5.98000e+04],\n",
       "       [ 4.74000e+01,  3.50000e+01,  2.98000e+01,  1.00000e+00,\n",
       "         2.41000e+01,  1.31000e+01,  9.70000e+00,  6.80000e+00,\n",
       "         5.40000e+00],\n",
       "       [ 7.00000e+00,  3.40000e+00,  0.00000e+00,  5.10000e+00,\n",
       "         1.90000e+00,  1.30000e+00,  2.50000e+00,  8.00000e-01,\n",
       "         1.80000e+00],\n",
       "       [ 2.05000e-01,  7.00000e-03,  1.70000e-02,  5.50000e-02,\n",
       "         9.40000e-02,  4.90000e-02,  5.70000e-02,  4.60000e-02,\n",
       "         1.10000e-02],\n",
       "       [ 3.40000e-02,  1.77400e+02,  2.34000e+01,  6.70000e+00,\n",
       "         2.52000e+01,  3.10000e+00,  2.67000e+01,  9.78000e+01,\n",
       "         2.83000e+01],\n",
       "       [ 1.67000e+02,  4.64000e+02,  1.50000e+01, -2.00000e+01,\n",
       "        -6.50000e+01, -1.10000e+02, -1.40000e+02, -1.95000e+02,\n",
       "        -2.00000e+02],\n",
       "       [ 0.00000e+00,  9.20000e+01,  1.00000e+00,  0.00000e+00,\n",
       "         1.00000e-02,          nan,          nan,          nan,\n",
       "                 nan],\n",
       "       [ 0.00000e+00,  0.00000e+00,  1.00000e+00,  0.00000e+00,\n",
       "         2.00000e+00,  7.90000e+01,  8.20000e+01,  2.70000e+01,\n",
       "         1.40000e+01],\n",
       "       [ 0.00000e+00,  0.00000e+00,  0.00000e+00,  0.00000e+00,\n",
       "         0.00000e+00,  1.00000e+00,  1.00000e+00,  1.00000e+00,\n",
       "         1.00000e+00],\n",
       "       [ 1.00000e+00,  0.00000e+00,  1.00000e+00,  0.00000e+00,\n",
       "         0.00000e+00,  1.00000e+00,  1.00000e+00,  1.00000e+00,\n",
       "         1.00000e+00]])"
      ]
     },
     "execution_count": 4,
     "metadata": {},
     "output_type": "execute_result"
    }
   ],
   "source": [
    "planets"
   ]
  },
  {
   "cell_type": "code",
   "execution_count": 5,
   "metadata": {},
   "outputs": [
    {
     "data": {
      "text/plain": [
       "(20, 9)"
      ]
     },
     "execution_count": 5,
     "metadata": {},
     "output_type": "execute_result"
    }
   ],
   "source": [
    "planets.shape"
   ]
  },
  {
   "cell_type": "code",
   "execution_count": 6,
   "metadata": {},
   "outputs": [
    {
     "data": {
      "text/plain": [
       "array([[False, False, False, False, False, False, False, False, False],\n",
       "       [False, False, False, False, False, False, False, False, False],\n",
       "       [False, False, False, False, False, False, False, False, False],\n",
       "       [False, False, False, False, False, False, False, False, False],\n",
       "       [False, False, False, False, False, False, False, False, False],\n",
       "       [False, False, False, False, False, False, False, False, False],\n",
       "       [False, False, False, False, False, False, False, False, False],\n",
       "       [False, False, False, False, False, False, False, False, False],\n",
       "       [False, False, False, False, False, False, False, False, False],\n",
       "       [False, False, False, False, False, False, False, False, False],\n",
       "       [False, False, False, False, False, False, False, False, False],\n",
       "       [False, False, False, False, False, False, False, False, False],\n",
       "       [False, False, False, False, False, False, False, False, False],\n",
       "       [False, False, False, False, False, False, False, False, False],\n",
       "       [False, False, False, False, False, False, False, False, False],\n",
       "       [False, False, False, False, False, False, False, False, False],\n",
       "       [False, False, False, False, False,  True,  True,  True,  True],\n",
       "       [False, False, False, False, False, False, False, False, False],\n",
       "       [False, False, False, False, False, False, False, False, False],\n",
       "       [False, False, False, False, False, False, False, False, False]])"
      ]
     },
     "execution_count": 6,
     "metadata": {},
     "output_type": "execute_result"
    }
   ],
   "source": [
    "np.isnan(planets)"
   ]
  },
  {
   "cell_type": "code",
   "execution_count": 9,
   "metadata": {},
   "outputs": [],
   "source": [
    "planets_new = np.nan_to_num(planets, nan=-1) #replacing nan to -1 "
   ]
  },
  {
   "cell_type": "code",
   "execution_count": 10,
   "metadata": {},
   "outputs": [],
   "source": [
    "np.savetxt('planets_new.txt', planets_new, \n",
    "           delimiter=',') #saving the new data to \"planets.txt\" file"
   ]
  },
  {
   "cell_type": "code",
   "execution_count": null,
   "metadata": {},
   "outputs": [],
   "source": []
  }
 ],
 "metadata": {
  "kernelspec": {
   "display_name": "Python 3",
   "language": "python",
   "name": "python3"
  },
  "language_info": {
   "codemirror_mode": {
    "name": "ipython",
    "version": 3
   },
   "file_extension": ".py",
   "mimetype": "text/x-python",
   "name": "python",
   "nbconvert_exporter": "python",
   "pygments_lexer": "ipython3",
   "version": "3.6.4"
  }
 },
 "nbformat": 4,
 "nbformat_minor": 4
}
