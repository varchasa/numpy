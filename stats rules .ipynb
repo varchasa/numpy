{
 "cells": [
  {
   "cell_type": "code",
   "execution_count": 1,
   "metadata": {},
   "outputs": [],
   "source": [
    "import numpy as np"
   ]
  },
  {
   "cell_type": "markdown",
   "metadata": {},
   "source": [
    "# Checking stats rules with numpy"
   ]
  },
  {
   "cell_type": "markdown",
   "metadata": {},
   "source": [
    "## Mean subracted array has zero mean"
   ]
  },
  {
   "cell_type": "code",
   "execution_count": 2,
   "metadata": {},
   "outputs": [],
   "source": [
    "arr = np.random.rand(1000)"
   ]
  },
  {
   "cell_type": "code",
   "execution_count": 3,
   "metadata": {},
   "outputs": [],
   "source": [
    "arr1 = arr - np.mean(arr) "
   ]
  },
  {
   "cell_type": "code",
   "execution_count": 4,
   "metadata": {},
   "outputs": [
    {
     "data": {
      "text/plain": [
       "6.661338147750939e-18"
      ]
     },
     "execution_count": 4,
     "metadata": {},
     "output_type": "execute_result"
    }
   ],
   "source": [
    "np.mean(arr1)"
   ]
  },
  {
   "cell_type": "markdown",
   "metadata": {},
   "source": [
    "## Computing mean with smaller set of values"
   ]
  },
  {
   "cell_type": "code",
   "execution_count": 5,
   "metadata": {},
   "outputs": [],
   "source": [
    "arr = np.random.rand(1000)"
   ]
  },
  {
   "cell_type": "code",
   "execution_count": 6,
   "metadata": {},
   "outputs": [
    {
     "name": "stdout",
     "output_type": "stream",
     "text": [
      "1 0.8374855199075031\n",
      "2 0.6047806401828139\n",
      "3 0.676830717872421\n",
      "4 0.6220068286225202\n",
      "5 0.5416941520437497\n",
      "6 0.5286685898828132\n",
      "7 0.5794316156143557\n",
      "8 0.615977951531882\n",
      "9 0.5846498822076482\n",
      "10 0.5894738050766194\n",
      "11 0.5740535028375348\n",
      "12 0.6018020842825119\n",
      "13 0.6169927021678464\n",
      "14 0.5858786485717424\n",
      "15 0.568369810052453\n",
      "16 0.5935949312751574\n",
      "17 0.5942784667718857\n",
      "18 0.582617763083317\n",
      "19 0.5821048540298055\n",
      "20 0.5910174302594324\n",
      "21 0.5765164383438821\n",
      "22 0.584137143039047\n",
      "23 0.5815976922680082\n",
      "24 0.5690793240691415\n",
      "25 0.5640037669929763\n",
      "26 0.5752025554770601\n",
      "27 0.585078647145607\n",
      "28 0.5846479246865969\n",
      "29 0.5793009636197152\n",
      "30 0.5801057005403\n",
      "31 0.5628258193646297\n",
      "32 0.5686381391126668\n",
      "33 0.5679737265759177\n",
      "34 0.5705880161161714\n",
      "35 0.5712081116759665\n",
      "36 0.5592695060443926\n",
      "37 0.5458100484363744\n",
      "38 0.5577068982357151\n",
      "39 0.560413114902547\n",
      "40 0.5496165150719678\n",
      "41 0.5402271010733464\n",
      "42 0.5431646585332219\n",
      "43 0.5407573634830054\n",
      "44 0.5334563156737119\n",
      "45 0.5393536123145094\n",
      "46 0.536346363591651\n",
      "47 0.5433375944186645\n",
      "48 0.5472051077176728\n",
      "49 0.553922633807822\n"
     ]
    }
   ],
   "source": [
    "for k in range(1,50):\n",
    "    arr1=arr[0:k] \n",
    "    print(k,np.mean(arr1)) "
   ]
  },
  {
   "cell_type": "code",
   "execution_count": 8,
   "metadata": {},
   "outputs": [
    {
     "data": {
      "text/plain": [
       "<function numpy.cumsum(a, axis=None, dtype=None, out=None)>"
      ]
     },
     "execution_count": 8,
     "metadata": {},
     "output_type": "execute_result"
    }
   ],
   "source": [
    "np.cumsum #returns the cummlative sum of the elements along a given axis"
   ]
  },
  {
   "cell_type": "code",
   "execution_count": 9,
   "metadata": {},
   "outputs": [],
   "source": [
    "means = np.cumsum(arr)/np.arange(1,1001) #first element is taken as it is while second no. is the sum of first two numbers and so on "
   ]
  },
  {
   "cell_type": "code",
   "execution_count": 11,
   "metadata": {},
   "outputs": [
    {
     "data": {
      "text/plain": [
       "array([0.83748552, 0.60478064, 0.67683072, 0.62200683, 0.54169415,\n",
       "       0.52866859, 0.57943162, 0.61597795, 0.58464988, 0.58947381,\n",
       "       0.5740535 , 0.60180208, 0.6169927 , 0.58587865, 0.56836981,\n",
       "       0.59359493, 0.59427847, 0.58261776, 0.58210485, 0.59101743])"
      ]
     },
     "execution_count": 11,
     "metadata": {},
     "output_type": "execute_result"
    }
   ],
   "source": [
    "means[0:20]"
   ]
  },
  {
   "cell_type": "markdown",
   "metadata": {},
   "source": [
    "## Effect of outliers on mean and median"
   ]
  },
  {
   "cell_type": "code",
   "execution_count": 12,
   "metadata": {},
   "outputs": [],
   "source": [
    "arr = np.random.randint(1,100,100)"
   ]
  },
  {
   "cell_type": "code",
   "execution_count": 13,
   "metadata": {},
   "outputs": [
    {
     "data": {
      "text/plain": [
       "53.5"
      ]
     },
     "execution_count": 13,
     "metadata": {},
     "output_type": "execute_result"
    }
   ],
   "source": [
    "np.mean(arr)"
   ]
  },
  {
   "cell_type": "code",
   "execution_count": 14,
   "metadata": {},
   "outputs": [
    {
     "data": {
      "text/plain": [
       "55.5"
      ]
     },
     "execution_count": 14,
     "metadata": {},
     "output_type": "execute_result"
    }
   ],
   "source": [
    "np.median(arr) "
   ]
  },
  {
   "cell_type": "code",
   "execution_count": 20,
   "metadata": {},
   "outputs": [],
   "source": [
    "arr = np.append(arr, [1000, 2000]) #appending some outliers to the data"
   ]
  },
  {
   "cell_type": "code",
   "execution_count": 16,
   "metadata": {},
   "outputs": [
    {
     "data": {
      "text/plain": [
       "(102,)"
      ]
     },
     "execution_count": 16,
     "metadata": {},
     "output_type": "execute_result"
    }
   ],
   "source": [
    "arr.shape"
   ]
  },
  {
   "cell_type": "code",
   "execution_count": 22,
   "metadata": {},
   "outputs": [
    {
     "data": {
      "text/plain": [
       "135.37735849056602"
      ]
     },
     "execution_count": 22,
     "metadata": {},
     "output_type": "execute_result"
    }
   ],
   "source": [
    "np.mean(arr) #mean changes on adding the outliers"
   ]
  },
  {
   "cell_type": "code",
   "execution_count": 23,
   "metadata": {},
   "outputs": [
    {
     "data": {
      "text/plain": [
       "58.5"
      ]
     },
     "execution_count": 23,
     "metadata": {},
     "output_type": "execute_result"
    }
   ],
   "source": [
    "np.median(arr) #while median is somehow closer to the previous median"
   ]
  },
  {
   "cell_type": "markdown",
   "metadata": {},
   "source": [
    "## Effect of scaling arrays on mean and median"
   ]
  },
  {
   "cell_type": "code",
   "execution_count": null,
   "metadata": {},
   "outputs": [],
   "source": [
    "arr = np.random.rand()"
   ]
  }
 ],
 "metadata": {
  "kernelspec": {
   "display_name": "Python 3",
   "language": "python",
   "name": "python3"
  },
  "language_info": {
   "codemirror_mode": {
    "name": "ipython",
    "version": 3
   },
   "file_extension": ".py",
   "mimetype": "text/x-python",
   "name": "python",
   "nbconvert_exporter": "python",
   "pygments_lexer": "ipython3",
   "version": "3.6.4"
  }
 },
 "nbformat": 4,
 "nbformat_minor": 4
}
