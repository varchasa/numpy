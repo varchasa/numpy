{
 "cells": [
  {
   "cell_type": "code",
   "execution_count": 2,
   "metadata": {},
   "outputs": [],
   "source": [
    "import numpy as np"
   ]
  },
  {
   "cell_type": "code",
   "execution_count": 3,
   "metadata": {},
   "outputs": [],
   "source": [
    "arr1 = np.random.rand(3, 4)\n",
    "arr2 = np.random.rand(3, 4)"
   ]
  },
  {
   "cell_type": "code",
   "execution_count": 4,
   "metadata": {},
   "outputs": [
    {
     "data": {
      "text/plain": [
       "array([[1.64955119, 0.28157453, 1.65650664, 0.55560867],\n",
       "       [0.83501231, 1.15196247, 0.8729897 , 1.48221097],\n",
       "       [1.02921411, 1.89856149, 1.04639411, 0.16956486]])"
      ]
     },
     "execution_count": 4,
     "metadata": {},
     "output_type": "execute_result"
    }
   ],
   "source": [
    "arr2+arr1 #adding two arrays"
   ]
  },
  {
   "cell_type": "code",
   "execution_count": 5,
   "metadata": {},
   "outputs": [
    {
     "data": {
      "text/plain": [
       "array([[-0.0718596 , -0.1810023 ,  0.04923439,  0.1685684 ],\n",
       "       [-0.67957187,  0.21546844,  0.7927621 ,  0.17285   ],\n",
       "       [-0.2425344 ,  0.09289535,  0.55176807, -0.13140973]])"
      ]
     },
     "execution_count": 5,
     "metadata": {},
     "output_type": "execute_result"
    }
   ],
   "source": [
    "arr1-arr2 #substracting two arrays"
   ]
  },
  {
   "cell_type": "code",
   "execution_count": 6,
   "metadata": {},
   "outputs": [
    {
     "data": {
      "text/plain": [
       "array([[0.67896383, 0.0116306 , 0.68539756, 0.07007142],\n",
       "       [0.05885691, 0.32014772, 0.03340982, 0.54176806],\n",
       "       [0.25011469, 0.89897655, 0.19762316, 0.00287093]])"
      ]
     },
     "execution_count": 6,
     "metadata": {},
     "output_type": "execute_result"
    }
   ],
   "source": [
    "arr1*arr2 #multiplying two arrays "
   ]
  },
  {
   "cell_type": "code",
   "execution_count": 7,
   "metadata": {},
   "outputs": [
    {
     "data": {
      "text/plain": [
       "array([[ 0.9165108 ,  0.21741734,  1.06126453,  1.87106392],\n",
       "       [ 0.10262912,  1.46015977, 20.76282829,  1.26402192],\n",
       "       [ 0.61858119,  1.10289316,  3.23105148,  0.12677193]])"
      ]
     },
     "execution_count": 7,
     "metadata": {},
     "output_type": "execute_result"
    }
   ],
   "source": [
    "arr1/arr2 #dividing two arrays"
   ]
  },
  {
   "cell_type": "code",
   "execution_count": 8,
   "metadata": {},
   "outputs": [
    {
     "data": {
      "text/plain": [
       "array([[2.20085472, 1.05157192, 2.34637249, 1.4363261 ],\n",
       "       [1.08082022, 1.98122523, 2.29992359, 2.28766234],\n",
       "       [1.48192194, 2.70669523, 2.2234968 , 1.0192607 ]])"
      ]
     },
     "execution_count": 8,
     "metadata": {},
     "output_type": "execute_result"
    }
   ],
   "source": [
    "np.exp(arr1) #it will exponentiate each value"
   ]
  },
  {
   "cell_type": "code",
   "execution_count": 9,
   "metadata": {},
   "outputs": [
    {
     "data": {
      "text/plain": [
       "array([[-0.23718442, -2.99002633, -0.15914754, -1.01586652],\n",
       "       [-2.55463983, -0.38021345, -0.18287063, -0.18930933],\n",
       "       [-0.93308128, -0.00428073, -0.22429285, -3.95924225]])"
      ]
     },
     "execution_count": 9,
     "metadata": {},
     "output_type": "execute_result"
    }
   ],
   "source": [
    "np.log(arr1) #take log of each value"
   ]
  },
  {
   "cell_type": "code",
   "execution_count": 10,
   "metadata": {},
   "outputs": [
    {
     "data": {
      "text/plain": [
       "array([[0.70954042, 0.05026492, 0.7531718 , 0.35422812],\n",
       "       [0.077642  , 0.63167771, 0.73986919, 0.73626251],\n",
       "       [0.38327535, 0.83915537, 0.71671558, 0.01907641]])"
      ]
     },
     "execution_count": 10,
     "metadata": {},
     "output_type": "execute_result"
    }
   ],
   "source": [
    "np.sin(arr1) #sin value of each value "
   ]
  },
  {
   "cell_type": "code",
   "execution_count": 11,
   "metadata": {},
   "outputs": [
    {
     "data": {
      "text/plain": [
       "array([[0.70466474, 0.99873592, 0.65782387, 0.93515905],\n",
       "       [0.9969813 , 0.7752311 , 0.67275076, 0.67669603],\n",
       "       [0.92363413, 0.54389178, 0.6973656 , 0.99981803]])"
      ]
     },
     "execution_count": 11,
     "metadata": {},
     "output_type": "execute_result"
    }
   ],
   "source": [
    "np.cos(arr1) #cos value of each value "
   ]
  },
  {
   "cell_type": "code",
   "execution_count": 12,
   "metadata": {},
   "outputs": [
    {
     "data": {
      "text/plain": [
       "array([[1.00691914, 0.05032854, 1.14494447, 0.37878917],\n",
       "       [0.07787709, 0.81482504, 1.09976717, 1.08802545],\n",
       "       [0.41496447, 1.54287195, 1.02774725, 0.01907988]])"
      ]
     },
     "execution_count": 12,
     "metadata": {},
     "output_type": "execute_result"
    }
   ],
   "source": [
    "np.tan(arr1) #tan value of each value"
   ]
  },
  {
   "cell_type": "code",
   "execution_count": 14,
   "metadata": {},
   "outputs": [
    {
     "data": {
      "text/plain": [
       "array([[0.88816991, 0.22424565, 0.92350989, 0.60173793],\n",
       "       [0.27878346, 0.82687088, 0.91262035, 0.90968703],\n",
       "       [0.62716812, 0.99786192, 0.89391336, 0.13812156]])"
      ]
     },
     "execution_count": 14,
     "metadata": {},
     "output_type": "execute_result"
    }
   ],
   "source": [
    "np.sqrt(arr1) #square root of each value "
   ]
  },
  {
   "cell_type": "code",
   "execution_count": 16,
   "metadata": {},
   "outputs": [
    {
     "name": "stdout",
     "output_type": "stream",
     "text": [
      "[[ 1.26767489 19.88620607  1.17251093  2.76175549]\n",
      " [12.86666463  1.46259675  1.20065907  1.2084147 ]\n",
      " [ 2.54233075  1.00428991  1.25143744 52.41759162]]\n"
     ]
    }
   ],
   "source": [
    "arr_inv = 1 / arr1\n",
    "print(arr_inv) #inverse of each value "
   ]
  },
  {
   "cell_type": "code",
   "execution_count": 20,
   "metadata": {},
   "outputs": [],
   "source": [
    "arr1 = np.zeros((3,4))"
   ]
  },
  {
   "cell_type": "code",
   "execution_count": 21,
   "metadata": {},
   "outputs": [
    {
     "name": "stderr",
     "output_type": "stream",
     "text": [
      "C:\\Users\\Varchasa Aggarwal\\AppData\\Local\\Programs\\Python\\Python36\\Lib\\site-packages\\ipykernel_launcher.py:1: RuntimeWarning: divide by zero encountered in true_divide\n",
      "  \"\"\"Entry point for launching an IPython kernel.\n"
     ]
    }
   ],
   "source": [
    "arr_inv = 1/arr1"
   ]
  },
  {
   "cell_type": "code",
   "execution_count": 22,
   "metadata": {},
   "outputs": [
    {
     "name": "stdout",
     "output_type": "stream",
     "text": [
      "[[inf inf inf inf]\n",
      " [inf inf inf inf]\n",
      " [inf inf inf inf]]\n"
     ]
    }
   ],
   "source": [
    "print(arr_inv) #inverse of 0"
   ]
  },
  {
   "cell_type": "code",
   "execution_count": null,
   "metadata": {},
   "outputs": [],
   "source": []
  }
 ],
 "metadata": {
  "kernelspec": {
   "display_name": "Python 3",
   "language": "python",
   "name": "python3"
  },
  "language_info": {
   "codemirror_mode": {
    "name": "ipython",
    "version": 3
   },
   "file_extension": ".py",
   "mimetype": "text/x-python",
   "name": "python",
   "nbconvert_exporter": "python",
   "pygments_lexer": "ipython3",
   "version": "3.6.4"
  }
 },
 "nbformat": 4,
 "nbformat_minor": 4
}
